{
 "cells": [
  {
   "cell_type": "code",
   "execution_count": 85,
   "id": "982872c7-79a4-435d-ac61-17a47907d138",
   "metadata": {},
   "outputs": [],
   "source": [
    "import pandas as pd\n",
    "import numpy as np\n",
    "import matplotlib.pyplot as plt\n",
    "import seaborn as sns"
   ]
  },
  {
   "cell_type": "code",
   "execution_count": 2,
   "id": "f9727274-b9eb-41bb-a123-9b926f1326c5",
   "metadata": {},
   "outputs": [],
   "source": [
    "visa_df=pd.read_csv('Visadataset.csv')"
   ]
  },
  {
   "cell_type": "code",
   "execution_count": 3,
   "id": "2d70c3cc-d4eb-4e00-847a-0cba5b094b4c",
   "metadata": {},
   "outputs": [],
   "source": [
    "# Select categorical columns (typically of type 'object')\n",
    "c = visa_df.select_dtypes(include='object').columns\n",
    "\n",
    "# Select numerical columns (excluding 'object' type)\n",
    "n = visa_df.select_dtypes(exclude='object').columns"
   ]
  },
  {
   "cell_type": "code",
   "execution_count": 34,
   "id": "40bba628-9f0b-4b1b-a73b-9b6cc60349c5",
   "metadata": {},
   "outputs": [
    {
     "data": {
      "text/plain": [
       "0          Asia\n",
       "1          Asia\n",
       "2          Asia\n",
       "3          Asia\n",
       "4        Africa\n",
       "          ...  \n",
       "25475      Asia\n",
       "25476      Asia\n",
       "25477      Asia\n",
       "25478      Asia\n",
       "25479      Asia\n",
       "Name: continent, Length: 25480, dtype: object"
      ]
     },
     "execution_count": 34,
     "metadata": {},
     "output_type": "execute_result"
    }
   ],
   "source": [
    "visa_df.iloc[:,1]#series\n",
    "visa_df.iloc[:,[1]]#df\n",
    "visa_df.loc[:,'continent']#series\n",
    "#visa_df.loc[:,['continent']]#df\n",
    "#visa_df.[['continent']]#series\n",
    "#visa_df.[['continent']]#df"
   ]
  },
  {
   "cell_type": "code",
   "execution_count": null,
   "id": "51b4cf8f-b8b4-4262-9a97-80764fd648d9",
   "metadata": {},
   "outputs": [],
   "source": [
    "visa_df['continent','case_status']"
   ]
  },
  {
   "cell_type": "markdown",
   "id": "663bc53b-109f-4d25-8d40-9948f4a74bb9",
   "metadata": {},
   "source": [
    "**How to covert into values**"
   ]
  },
  {
   "cell_type": "code",
   "execution_count": 12,
   "id": "74c77b0c-dff2-4f66-8ba2-63e8b4e32d76",
   "metadata": {},
   "outputs": [
    {
     "data": {
      "text/plain": [
       "1"
      ]
     },
     "execution_count": 12,
     "metadata": {},
     "output_type": "execute_result"
    }
   ],
   "source": [
    "visa_df['continent'].values.ndim"
   ]
  },
  {
   "cell_type": "code",
   "execution_count": 14,
   "id": "5a8a1cc1-16d5-4e81-b9c1-2309404d7927",
   "metadata": {},
   "outputs": [
    {
     "data": {
      "text/plain": [
       "2"
      ]
     },
     "execution_count": 14,
     "metadata": {},
     "output_type": "execute_result"
    }
   ],
   "source": [
    "visa_df[['continent']].values.ndim"
   ]
  },
  {
   "cell_type": "code",
   "execution_count": 16,
   "id": "017460dc-5777-4c43-a0a3-f20859b7b0e8",
   "metadata": {},
   "outputs": [
    {
     "data": {
      "text/plain": [
       "'Asia'"
      ]
     },
     "execution_count": 16,
     "metadata": {},
     "output_type": "execute_result"
    }
   ],
   "source": [
    "visa_df\n",
    "visa_df['continent']\n",
    "visa_df['continent'].values\n",
    "visa_df['continent'].values[0]\n"
   ]
  },
  {
   "cell_type": "code",
   "execution_count": 18,
   "id": "71f77834-e49f-42cb-b43e-0834a225b090",
   "metadata": {},
   "outputs": [
    {
     "data": {
      "text/plain": [
       "'Asia'"
      ]
     },
     "execution_count": 18,
     "metadata": {},
     "output_type": "execute_result"
    }
   ],
   "source": [
    "visa_df[['continent']].values[0][0]"
   ]
  },
  {
   "cell_type": "code",
   "execution_count": 24,
   "id": "be4ca683-213b-495a-b355-7fa11e3aa0d9",
   "metadata": {},
   "outputs": [
    {
     "data": {
      "text/plain": [
       "'Denied'"
      ]
     },
     "execution_count": 24,
     "metadata": {},
     "output_type": "execute_result"
    }
   ],
   "source": [
    "visa_df[['continent','case_status']].values[0][1]"
   ]
  },
  {
   "cell_type": "markdown",
   "id": "f16bc932-ab0c-48a8-83fe-b6d4094533e7",
   "metadata": {},
   "source": [
    "**uniqui-nunique**"
   ]
  },
  {
   "cell_type": "code",
   "execution_count": 20,
   "id": "3cecf409-2b22-4df5-8244-6f1c198060af",
   "metadata": {},
   "outputs": [
    {
     "data": {
      "text/plain": [
       "array(['Asia', 'Africa', 'North America', 'Europe', 'South America',\n",
       "       'Oceania'], dtype=object)"
      ]
     },
     "execution_count": 20,
     "metadata": {},
     "output_type": "execute_result"
    }
   ],
   "source": [
    "visa_df['continent'].unique()"
   ]
  },
  {
   "cell_type": "code",
   "execution_count": 22,
   "id": "0964c997-39e3-4fbe-b928-d4c93c09bb18",
   "metadata": {},
   "outputs": [
    {
     "data": {
      "text/plain": [
       "6"
      ]
     },
     "execution_count": 22,
     "metadata": {},
     "output_type": "execute_result"
    }
   ],
   "source": [
    "visa_df['continent'].nunique()"
   ]
  },
  {
   "cell_type": "code",
   "execution_count": 24,
   "id": "3b217335-0077-428b-8acc-a240fa94e4c3",
   "metadata": {},
   "outputs": [
    {
     "data": {
      "text/plain": [
       "25480"
      ]
     },
     "execution_count": 24,
     "metadata": {},
     "output_type": "execute_result"
    }
   ],
   "source": [
    "len(visa_df)"
   ]
  },
  {
   "cell_type": "markdown",
   "id": "9cc24b93-73e2-4074-a05e-dd775ead17a2",
   "metadata": {},
   "source": [
    "**frequency table**"
   ]
  },
  {
   "cell_type": "code",
   "execution_count": 26,
   "id": "e293e2c3-6e8a-47dd-bfc0-57c8fda81a1b",
   "metadata": {},
   "outputs": [
    {
     "data": {
      "text/plain": [
       "16861"
      ]
     },
     "execution_count": 26,
     "metadata": {},
     "output_type": "execute_result"
    }
   ],
   "source": [
    "con=visa_df['continent']=='Asia'\n",
    "#access the true value\n",
    "len(visa_df[con])"
   ]
  },
  {
   "cell_type": "code",
   "execution_count": 36,
   "id": "9a4d518f-aeaf-4311-9b28-a42d6b2435cf",
   "metadata": {},
   "outputs": [
    {
     "name": "stdout",
     "output_type": "stream",
     "text": [
      "Asia\n",
      "Africa\n",
      "North America\n",
      "Europe\n",
      "South America\n",
      "Oceania\n"
     ]
    },
    {
     "data": {
      "text/plain": [
       "[16861, 551, 3292, 3732, 852, 192]"
      ]
     },
     "execution_count": 36,
     "metadata": {},
     "output_type": "execute_result"
    }
   ],
   "source": [
    "\n",
    "count=[]\n",
    "for i in visa_df['continent'].unique():\n",
    "    print(i)\n",
    "    con=visa_df['continent']==i\n",
    "    values=len(visa_df[con])\n",
    "    \n",
    "    count.append(values)\n",
    "count    "
   ]
  },
  {
   "cell_type": "code",
   "execution_count": 46,
   "id": "48b05956-ad96-402b-bd83-604c576dfd6d",
   "metadata": {},
   "outputs": [
    {
     "name": "stdout",
     "output_type": "stream",
     "text": [
      "Asia\n",
      "Africa\n",
      "North America\n",
      "Europe\n",
      "South America\n",
      "Oceania\n"
     ]
    },
    {
     "data": {
      "text/plain": [
       "(array(['Asia', 'Africa', 'North America', 'Europe', 'South America',\n",
       "        'Oceania'], dtype=object),\n",
       " [16861, 551, 3292, 3732, 852, 192])"
      ]
     },
     "execution_count": 46,
     "metadata": {},
     "output_type": "execute_result"
    }
   ],
   "source": [
    "\n",
    "count=[]\n",
    "labels=visa_df['continent'].unique()\n",
    "for i in labels:    \n",
    "    print(i)\n",
    "    con=visa_df['continent']==i\n",
    "    values=len(visa_df[con])\n",
    "    \n",
    "    count.append(values)\n",
    "labels,count"
   ]
  },
  {
   "cell_type": "code",
   "execution_count": 49,
   "id": "57e51a43-510e-420c-b48e-42f536d68c62",
   "metadata": {},
   "outputs": [
    {
     "name": "stdout",
     "output_type": "stream",
     "text": [
      "Asia\n",
      "Africa\n",
      "North America\n",
      "Europe\n",
      "South America\n",
      "Oceania\n"
     ]
    }
   ],
   "source": [
    "\n",
    "count=[]\n",
    "labels=visa_df['continent'].unique()\n",
    "for i in labels:    \n",
    "    print(i)\n",
    "    con=visa_df['continent']==i\n",
    "    values=len(visa_df[con])\n",
    "    \n",
    "    count.append(values)\n",
    "continent_df=pd.DataFrame(zip(labels,count),columns=['Class','Frequency'])"
   ]
  },
  {
   "cell_type": "markdown",
   "id": "a8bba778-acad-4e41-bd4d-8acde674d705",
   "metadata": {},
   "source": [
    "**Value count**"
   ]
  },
  {
   "cell_type": "code",
   "execution_count": 51,
   "id": "8db8eb6e-38b2-4f33-aa2e-b4aadd1412e2",
   "metadata": {},
   "outputs": [
    {
     "data": {
      "text/html": [
       "<div>\n",
       "<style scoped>\n",
       "    .dataframe tbody tr th:only-of-type {\n",
       "        vertical-align: middle;\n",
       "    }\n",
       "\n",
       "    .dataframe tbody tr th {\n",
       "        vertical-align: top;\n",
       "    }\n",
       "\n",
       "    .dataframe thead th {\n",
       "        text-align: right;\n",
       "    }\n",
       "</style>\n",
       "<table border=\"1\" class=\"dataframe\">\n",
       "  <thead>\n",
       "    <tr style=\"text-align: right;\">\n",
       "      <th></th>\n",
       "      <th>Class</th>\n",
       "      <th>Frequency</th>\n",
       "    </tr>\n",
       "  </thead>\n",
       "  <tbody>\n",
       "    <tr>\n",
       "      <th>0</th>\n",
       "      <td>Asia</td>\n",
       "      <td>16861</td>\n",
       "    </tr>\n",
       "    <tr>\n",
       "      <th>1</th>\n",
       "      <td>Europe</td>\n",
       "      <td>3732</td>\n",
       "    </tr>\n",
       "    <tr>\n",
       "      <th>2</th>\n",
       "      <td>North America</td>\n",
       "      <td>3292</td>\n",
       "    </tr>\n",
       "    <tr>\n",
       "      <th>3</th>\n",
       "      <td>South America</td>\n",
       "      <td>852</td>\n",
       "    </tr>\n",
       "    <tr>\n",
       "      <th>4</th>\n",
       "      <td>Africa</td>\n",
       "      <td>551</td>\n",
       "    </tr>\n",
       "    <tr>\n",
       "      <th>5</th>\n",
       "      <td>Oceania</td>\n",
       "      <td>192</td>\n",
       "    </tr>\n",
       "  </tbody>\n",
       "</table>\n",
       "</div>"
      ],
      "text/plain": [
       "           Class  Frequency\n",
       "0           Asia      16861\n",
       "1         Europe       3732\n",
       "2  North America       3292\n",
       "3  South America        852\n",
       "4         Africa        551\n",
       "5        Oceania        192"
      ]
     },
     "execution_count": 51,
     "metadata": {},
     "output_type": "execute_result"
    }
   ],
   "source": [
    "continent_vc=visa_df['continent'].value_counts()\n",
    "labels=continent_vc.keys()\n",
    "count=continent_vc.values\n",
    "continent_df=pd.DataFrame(zip(labels,count),columns=['Class','Frequency'])\n",
    "continent_df"
   ]
  },
  {
   "cell_type": "code",
   "execution_count": 53,
   "id": "2179d665-b39f-43c3-8a33-3185a658a4a2",
   "metadata": {},
   "outputs": [
    {
     "data": {
      "text/plain": [
       "continent\n",
       "Asia             66.173469\n",
       "Europe           14.646782\n",
       "North America    12.919937\n",
       "South America     3.343799\n",
       "Africa            2.162480\n",
       "Oceania           0.753532\n",
       "Name: proportion, dtype: float64"
      ]
     },
     "execution_count": 53,
     "metadata": {},
     "output_type": "execute_result"
    }
   ],
   "source": [
    "continent_vc=visa_df['continent'].value_counts(normalize=True)\n",
    "continent_vc*100\n"
   ]
  },
  {
   "cell_type": "code",
   "execution_count": 55,
   "id": "a7a2db1a-e874-4600-8608-2da683f07df5",
   "metadata": {},
   "outputs": [
    {
     "data": {
      "text/html": [
       "<div>\n",
       "<style scoped>\n",
       "    .dataframe tbody tr th:only-of-type {\n",
       "        vertical-align: middle;\n",
       "    }\n",
       "\n",
       "    .dataframe tbody tr th {\n",
       "        vertical-align: top;\n",
       "    }\n",
       "\n",
       "    .dataframe thead th {\n",
       "        text-align: right;\n",
       "    }\n",
       "</style>\n",
       "<table border=\"1\" class=\"dataframe\">\n",
       "  <thead>\n",
       "    <tr style=\"text-align: right;\">\n",
       "      <th></th>\n",
       "      <th>proportion</th>\n",
       "    </tr>\n",
       "    <tr>\n",
       "      <th>continent</th>\n",
       "      <th></th>\n",
       "    </tr>\n",
       "  </thead>\n",
       "  <tbody>\n",
       "    <tr>\n",
       "      <th>Asia</th>\n",
       "      <td>0.661735</td>\n",
       "    </tr>\n",
       "    <tr>\n",
       "      <th>Europe</th>\n",
       "      <td>0.146468</td>\n",
       "    </tr>\n",
       "    <tr>\n",
       "      <th>North America</th>\n",
       "      <td>0.129199</td>\n",
       "    </tr>\n",
       "    <tr>\n",
       "      <th>South America</th>\n",
       "      <td>0.033438</td>\n",
       "    </tr>\n",
       "    <tr>\n",
       "      <th>Africa</th>\n",
       "      <td>0.021625</td>\n",
       "    </tr>\n",
       "    <tr>\n",
       "      <th>Oceania</th>\n",
       "      <td>0.007535</td>\n",
       "    </tr>\n",
       "  </tbody>\n",
       "</table>\n",
       "</div>"
      ],
      "text/plain": [
       "               proportion\n",
       "continent                \n",
       "Asia             0.661735\n",
       "Europe           0.146468\n",
       "North America    0.129199\n",
       "South America    0.033438\n",
       "Africa           0.021625\n",
       "Oceania          0.007535"
      ]
     },
     "execution_count": 55,
     "metadata": {},
     "output_type": "execute_result"
    }
   ],
   "source": [
    "pd.DataFrame(continent_vc)"
   ]
  },
  {
   "cell_type": "markdown",
   "id": "7f21af58-ffd1-46ef-8885-8b6ccd62a102",
   "metadata": {},
   "source": [
    "**merthod-3**"
   ]
  },
  {
   "cell_type": "code",
   "execution_count": 59,
   "id": "459de27f-2044-424b-83dd-73dea07d2be8",
   "metadata": {},
   "outputs": [
    {
     "data": {
      "text/html": [
       "<div>\n",
       "<style scoped>\n",
       "    .dataframe tbody tr th:only-of-type {\n",
       "        vertical-align: middle;\n",
       "    }\n",
       "\n",
       "    .dataframe tbody tr th {\n",
       "        vertical-align: top;\n",
       "    }\n",
       "\n",
       "    .dataframe thead th {\n",
       "        text-align: right;\n",
       "    }\n",
       "</style>\n",
       "<table border=\"1\" class=\"dataframe\">\n",
       "  <thead>\n",
       "    <tr style=\"text-align: right;\">\n",
       "      <th></th>\n",
       "      <th>continent</th>\n",
       "      <th>count</th>\n",
       "    </tr>\n",
       "  </thead>\n",
       "  <tbody>\n",
       "    <tr>\n",
       "      <th>0</th>\n",
       "      <td>Asia</td>\n",
       "      <td>16861</td>\n",
       "    </tr>\n",
       "    <tr>\n",
       "      <th>1</th>\n",
       "      <td>Europe</td>\n",
       "      <td>3732</td>\n",
       "    </tr>\n",
       "    <tr>\n",
       "      <th>2</th>\n",
       "      <td>North America</td>\n",
       "      <td>3292</td>\n",
       "    </tr>\n",
       "    <tr>\n",
       "      <th>3</th>\n",
       "      <td>South America</td>\n",
       "      <td>852</td>\n",
       "    </tr>\n",
       "    <tr>\n",
       "      <th>4</th>\n",
       "      <td>Africa</td>\n",
       "      <td>551</td>\n",
       "    </tr>\n",
       "    <tr>\n",
       "      <th>5</th>\n",
       "      <td>Oceania</td>\n",
       "      <td>192</td>\n",
       "    </tr>\n",
       "  </tbody>\n",
       "</table>\n",
       "</div>"
      ],
      "text/plain": [
       "       continent  count\n",
       "0           Asia  16861\n",
       "1         Europe   3732\n",
       "2  North America   3292\n",
       "3  South America    852\n",
       "4         Africa    551\n",
       "5        Oceania    192"
      ]
     },
     "execution_count": 59,
     "metadata": {},
     "output_type": "execute_result"
    }
   ],
   "source": [
    "continent_vc=visa_df['continent'].value_counts()\n",
    "continent_vc\n",
    "continent_df=pd.DataFrame(continent_vc).reset_index()\n",
    "continent_df\n"
   ]
  },
  {
   "cell_type": "markdown",
   "id": "c0777cd7-afe2-492a-8fa4-f97a025eb84f",
   "metadata": {},
   "source": [
    "**Bar chart**"
   ]
  },
  {
   "cell_type": "code",
   "execution_count": 77,
   "id": "1ff1fb29-7990-4e9d-a063-28885d0c80ad",
   "metadata": {},
   "outputs": [
    {
     "data": {
      "text/plain": [
       "<BarContainer object of 6 artists>"
      ]
     },
     "execution_count": 77,
     "metadata": {},
     "output_type": "execute_result"
    },
    {
     "data": {
      "image/png": "[encoded data removed]",
      "text/plain": [
       "<Figure size 640x480 with 1 Axes>"
      ]
     },
     "metadata": {},
     "output_type": "display_data"
    }
   ],
   "source": [
    "#my frequency  table name is  : contient_df\n",
    "#classes column name : continent\n",
    "# frequency column name: count\n",
    "#['Asia']\n",
    "x_axis=visa_df['continent'].value_counts().keys()\n",
    "y_axis=visa_df['continent'].value_counts().values\n",
    "plt.bar(x_axis,y_axis)"
   ]
  },
  {
   "cell_type": "code",
   "execution_count": 83,
   "id": "056ad1ab-9484-4993-834b-81afaf78ad6d",
   "metadata": {},
   "outputs": [
    {
     "data": {
      "text/plain": [
       "<BarContainer object of 6 artists>"
      ]
     },
     "execution_count": 83,
     "metadata": {},
     "output_type": "execute_result"
    },
    {
     "data": {
      "image/png": "[encoded data removed]",
      "text/plain": [
       "<Figure size 1000x300 with 1 Axes>"
      ]
     },
     "metadata": {},
     "output_type": "display_data"
    }
   ],
   "source": [
    "x_axis=visa_df['continent'].value_counts().keys()\n",
    "y_axis=visa_df['continent'].value_counts().values\n",
    "plt.figure(figsize=(10,3))\n",
    "plt.bar(x_axis,y_axis)"
   ]
  },
  {
   "cell_type": "code",
   "execution_count": 99,
   "id": "4c60388b-99d7-48ea-9ea0-8196cea93108",
   "metadata": {},
   "outputs": [
    {
     "data": {
      "image/png": "[encoded data removed]",
      "text/plain": [
       "<Figure size 1000x300 with 1 Axes>"
      ]
     },
     "metadata": {},
     "output_type": "display_data"
    }
   ],
   "source": [
    "x_axis=visa_df['continent'].value_counts().keys()\n",
    "y_axis=visa_df['continent'].value_counts().values\n",
    "plt.figure(figsize=(10,3))\n",
    "plt.bar(x_axis,y_axis)\n",
    "plt.xlabel('Continents')\n",
    "plt.ylabel('Frequency')\n",
    "plt.title('Bar Chart')\n",
    "plt.show() #always at last"
   ]
  },
  {
   "cell_type": "code",
   "execution_count": 95,
   "id": "38ef0d56-7111-495f-8773-a172a40ab9db",
   "metadata": {},
   "outputs": [
    {
     "data": {
      "image/png": "[encoded data removed]",
      "text/plain": [
       "<Figure size 1000x300 with 1 Axes>"
      ]
     },
     "metadata": {},
     "output_type": "display_data"
    }
   ],
   "source": [
    "x_axis=visa_df['continent'].value_counts().keys()\n",
    "y_axis=visa_df['continent'].value_counts().values\n",
    "plt.figure(figsize=(10,3))\n",
    "plt.bar(x_axis,y_axis)\n",
    "plt.xlabel('Continents')\n",
    "plt.ylabel('Frequency')\n",
    "plt.title('bar Chart')\n",
    "plt.savefig('continent_bar.jpg')\n",
    "plt.show() #always at last"
   ]
  },
  {
   "cell_type": "markdown",
   "id": "44717438-9062-4621-9fe5-5a1871baa5c8",
   "metadata": {},
   "source": [
    "**pie Chart**"
   ]
  },
  {
   "cell_type": "code",
   "execution_count": null,
   "id": "201954aa-7e40-4e06-afda-8bcebb8ddec9",
   "metadata": {},
   "outputs": [],
   "source": [
    "#visa_df['continent'].value_count(normalize=True)"
   ]
  },
  {
   "cell_type": "code",
   "execution_count": 129,
   "id": "16b2c6c7-9c97-496d-b3be-360cc7bbcd44",
   "metadata": {},
   "outputs": [
    {
     "data": {
      "image/png": "[encoded data removed]",
      "text/plain": [
       "<Figure size 640x480 with 1 Axes>"
      ]
     },
     "metadata": {},
     "output_type": "display_data"
    }
   ],
   "source": [
    "keys=visa_df['continent'].value_counts().keys()\n",
    "values=visa_df['continent'].value_counts().values\n",
    "plt.pie(values,labels=keys,\n",
    "       autopct='%0.2f%%'\n",
    "       ,startangle=90,\n",
    "        explode=[0.1,0.1,0.1,0.1,0.1,0.1])\n",
    "plt.show()"
   ]
  },
  {
   "cell_type": "code",
   "execution_count": null,
   "id": "35834c07-809e-42d4-a48f-df56d4cdae68",
   "metadata": {},
   "outputs": [],
   "source": []
  }
 ],
 "metadata": {
  "kernelspec": {
   "display_name": "Python [conda env:base] *",
   "language": "python",
   "name": "conda-base-py"
  },
  "language_info": {
   "codemirror_mode": {
    "name": "ipython",
    "version": 3
   },
   "file_extension": ".py",
   "mimetype": "text/x-python",
   "name": "python",
   "nbconvert_exporter": "python",
   "pygments_lexer": "ipython3",
   "version": "3.12.7"
  }
 },
 "nbformat": 4,
 "nbformat_minor": 5
}
